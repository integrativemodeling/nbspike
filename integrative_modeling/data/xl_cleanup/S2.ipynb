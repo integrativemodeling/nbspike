{
 "cells": [
  {
   "cell_type": "markdown",
   "metadata": {},
   "source": [
    "This notebook cleans up the crosslink data for each S2-nanobody pair, by first ensuring that the residue indices are numbered consistently, and then extracts crosslink sets for each nanobody-crosslink-pair in a (CSV) format suitable for integrative modeling. Note:\n",
    "\n",
    "- S2 residues are reported according to the sequence of the full CoV2 spike protein. However, they will be reformatted relative to the S2 sequence given (i.e. treating the first residue in the sequence as position 1). Since we do rigid docking, any residues not within the structurally covered range of the available S2 structure (689-1162 extracted from the Spike trimer structure [6XR8](https://www.rcsb.org/structure/6xr8)), will be ignored.\n",
    "<br>\n",
    "\n",
    "- nanobody sequences used in the crosslinking experiment have an additional N-terminal GS \"tag\" and a C-terminal LEHHHHHH tag which are not present in the core nanobody sequence used to obtain comparative models. So, crosslinked residues must be accordingly renumbered. "
   ]
  },
  {
   "cell_type": "markdown",
   "metadata": {},
   "source": [
    "First import a few necessary modules and set filenames, output locations, etc. "
   ]
  },
  {
   "cell_type": "code",
   "execution_count": 2,
   "metadata": {},
   "outputs": [],
   "source": [
    "import os\n",
    "import numpy as np\n",
    "import pandas as pd\n",
    "from collections import namedtuple, OrderedDict\n",
    "from Bio import SeqIO\n",
    "\n",
    "FASTA_FN = \"../spike_nanobody.fasta.txt\"\n",
    "XL_FN = \"crosslinks_24Jun2021.xlsx\"\n",
    "OUTDIR = \"xl\"\n",
    "\n",
    "RECEPTOR = \"s2\"\n",
    "LIGANDS = [\"s2-10\", \"s2-40\"]\n",
    "RECEPTOR_OFFSET = -688\n",
    "RECEPTOR_RANGE = (689, 1162)\n",
    "\n",
    "FASTA = {r.id: r.seq._data for r in SeqIO.parse(FASTA_FN, format=\"fasta\")}"
   ]
  },
  {
   "cell_type": "markdown",
   "metadata": {},
   "source": [
    "Raw crosslink data are kept in an input spreadsheet. While all of the links are manually curated, some may be undesirable to include in the final modeling. Any crosslink that has a value of 0 in the \"included\" column will be excluded while generating the formatted CSV files."
   ]
  },
  {
   "cell_type": "code",
   "execution_count": 3,
   "metadata": {},
   "outputs": [],
   "source": [
    "def _get_resid(peptide_seq, seq, offset=0):\n",
    "    xl_loc = peptide_seq.find(\"*\") - 1\n",
    "    if xl_loc < 0:\n",
    "        return None\n",
    "    peptide_seq_cleaned = \"\".join([s for s in peptide_seq if s != \"*\"])\n",
    "    out = 1 + seq.find(peptide_seq_cleaned) + xl_loc\n",
    "    return out - offset"
   ]
  },
  {
   "cell_type": "markdown",
   "metadata": {},
   "source": [
    "For good measure, the function below will perform additional checks to detect duplicate crosslinks and then set all linkers to DSS, since that is what is used."
   ]
  },
  {
   "cell_type": "code",
   "execution_count": 4,
   "metadata": {},
   "outputs": [],
   "source": [
    "def _trim_crosslinks(xls):\n",
    "    d = OrderedDict()\n",
    "    for xl in xls:\n",
    "        p1, r1, p2, r2 = xl\n",
    "        key = (p1, r1, p2, r2)\n",
    "        if key not in d:\n",
    "            d[key] = 1\n",
    "        else:\n",
    "            d[key] += 1\n",
    "    \n",
    "    xls_out = []\n",
    "    for k, v in d.items():\n",
    "        if v > 1:\n",
    "            xl_str = \"(%s, %d, %s, %d)\" % k\n",
    "            print(\"Duplicate found for XL %s, num_copies = %d\" % (xl_str, v))\n",
    "        xls_out.append(k)\n",
    "    return xls_out "
   ]
  },
  {
   "cell_type": "code",
   "execution_count": 8,
   "metadata": {},
   "outputs": [],
   "source": [
    "def process_XL_set(ligand, outfn):\n",
    "    receptor_seq = FASTA[RECEPTOR]\n",
    "    ligand_seq = FASTA[ligand]\n",
    "    df = pd.read_excel(XL_FN, sheet_name=\"%s_%s\" % (RECEPTOR, ligand))\n",
    "    xls = []\n",
    "    for i in range(len(df)):\n",
    "        row_num = i+2\n",
    "        \n",
    "        # ------------------------------------------\n",
    "        # LIGAND (i.e. NANOBODY) CROSSLINKED RESIDUE\n",
    "        # ------------------------------------------\n",
    "        this_df = df.iloc[i]\n",
    "        ligand_pep_seq = this_df[\"peptide1\"]\n",
    "        ligand_res = this_df[\"residue1\"]\n",
    "        ligand_res_computed = _get_resid(ligand_pep_seq, \"GS\" + ligand_seq) # add N-terminal \"GS\" tag\n",
    "        # ignore if not found\n",
    "        if ligand_res_computed is None:\n",
    "            continue       \n",
    "        # ignore if either residue on the N-terminal tag is crosslinked\n",
    "        if ligand_res_computed <= 2:\n",
    "            continue\n",
    "        # check consistency with given residue number by collaborator\n",
    "        if ligand_res != ligand_res_computed:\n",
    "            print(\"Row %d. Ligand XL residue ID mismatch. Given: %d, computed from peptide seq: %d\" % \\\n",
    "                 (row_num, ligand_res, ligand_res_computed))\n",
    "        \n",
    "        # when all checks have passesd, subtract the added tag\n",
    "        ligand_res_computed -= 2\n",
    "        \n",
    "        \n",
    "        # ---------------------------------------\n",
    "        # RECEPTOR (i.e. RBD) CROSSLINKED RESIDUE\n",
    "        # ---------------------------------------\n",
    "        receptor_pep_seq = this_df[\"peptide2\"]\n",
    "        receptor_res = this_df[\"residue2\"]\n",
    "        receptor_res_computed = _get_resid(receptor_pep_seq, receptor_seq, RECEPTOR_OFFSET)\n",
    "        # ignore if not found\n",
    "        if receptor_res_computed is None:\n",
    "            continue\n",
    "        # ignore if outside structurally available receptor sequence\n",
    "        if receptor_res_computed not in range(*RECEPTOR_RANGE):\n",
    "            continue\n",
    "        # check consistency with given residue number by collaborator\n",
    "        if receptor_res != receptor_res_computed:\n",
    "            print(\"Row %d. Receptor XL residue ID mismatch. Given: %d, computed from peptide seq: %d\" % \\\n",
    "                 (row_num, receptor_res, receptor_res_computed))\n",
    "        \n",
    "        # if this crosslink has been explicitly excluded by collaborator, remove it\n",
    "        if not this_df[\"included\"]:\n",
    "            continue\n",
    "        \n",
    "        # add the crosslink\n",
    "        xl = (RECEPTOR, receptor_res_computed, ligand, ligand_res_computed)\n",
    "        xls.append(xl)\n",
    "    \n",
    "    xls_trimmed = _trim_crosslinks(xls)\n",
    "    out_df = pd.DataFrame(xls_trimmed, columns=[\"receptor\", \"receptor_residue\", \"ligand\", \"ligand_residue\"])\n",
    "    out_df.to_csv(outfn, index=False)\n",
    "    display(out_df)"
   ]
  },
  {
   "cell_type": "code",
   "execution_count": 9,
   "metadata": {
    "scrolled": false
   },
   "outputs": [
    {
     "name": "stdout",
     "output_type": "stream",
     "text": [
      "Processing XLs for s2-10\n"
     ]
    },
    {
     "data": {
      "text/html": [
       "<div>\n",
       "<style scoped>\n",
       "    .dataframe tbody tr th:only-of-type {\n",
       "        vertical-align: middle;\n",
       "    }\n",
       "\n",
       "    .dataframe tbody tr th {\n",
       "        vertical-align: top;\n",
       "    }\n",
       "\n",
       "    .dataframe thead th {\n",
       "        text-align: right;\n",
       "    }\n",
       "</style>\n",
       "<table border=\"1\" class=\"dataframe\">\n",
       "  <thead>\n",
       "    <tr style=\"text-align: right;\">\n",
       "      <th></th>\n",
       "      <th>receptor</th>\n",
       "      <th>receptor_residue</th>\n",
       "      <th>ligand</th>\n",
       "      <th>ligand_residue</th>\n",
       "    </tr>\n",
       "  </thead>\n",
       "  <tbody>\n",
       "    <tr>\n",
       "      <th>0</th>\n",
       "      <td>s2</td>\n",
       "      <td>964</td>\n",
       "      <td>s2-10</td>\n",
       "      <td>67</td>\n",
       "    </tr>\n",
       "    <tr>\n",
       "      <th>1</th>\n",
       "      <td>s2</td>\n",
       "      <td>835</td>\n",
       "      <td>s2-10</td>\n",
       "      <td>78</td>\n",
       "    </tr>\n",
       "    <tr>\n",
       "      <th>2</th>\n",
       "      <td>s2</td>\n",
       "      <td>854</td>\n",
       "      <td>s2-10</td>\n",
       "      <td>113</td>\n",
       "    </tr>\n",
       "    <tr>\n",
       "      <th>3</th>\n",
       "      <td>s2</td>\n",
       "      <td>964</td>\n",
       "      <td>s2-10</td>\n",
       "      <td>113</td>\n",
       "    </tr>\n",
       "  </tbody>\n",
       "</table>\n",
       "</div>"
      ],
      "text/plain": [
       "  receptor  receptor_residue ligand  ligand_residue\n",
       "0       s2               964  s2-10              67\n",
       "1       s2               835  s2-10              78\n",
       "2       s2               854  s2-10             113\n",
       "3       s2               964  s2-10             113"
      ]
     },
     "metadata": {},
     "output_type": "display_data"
    },
    {
     "name": "stdout",
     "output_type": "stream",
     "text": [
      "\n",
      "\n",
      "\n",
      "Processing XLs for s2-40\n"
     ]
    },
    {
     "data": {
      "text/html": [
       "<div>\n",
       "<style scoped>\n",
       "    .dataframe tbody tr th:only-of-type {\n",
       "        vertical-align: middle;\n",
       "    }\n",
       "\n",
       "    .dataframe tbody tr th {\n",
       "        vertical-align: top;\n",
       "    }\n",
       "\n",
       "    .dataframe thead th {\n",
       "        text-align: right;\n",
       "    }\n",
       "</style>\n",
       "<table border=\"1\" class=\"dataframe\">\n",
       "  <thead>\n",
       "    <tr style=\"text-align: right;\">\n",
       "      <th></th>\n",
       "      <th>receptor</th>\n",
       "      <th>receptor_residue</th>\n",
       "      <th>ligand</th>\n",
       "      <th>ligand_residue</th>\n",
       "    </tr>\n",
       "  </thead>\n",
       "  <tbody>\n",
       "    <tr>\n",
       "      <th>0</th>\n",
       "      <td>s2</td>\n",
       "      <td>814</td>\n",
       "      <td>s2-40</td>\n",
       "      <td>67</td>\n",
       "    </tr>\n",
       "    <tr>\n",
       "      <th>1</th>\n",
       "      <td>s2</td>\n",
       "      <td>786</td>\n",
       "      <td>s2-40</td>\n",
       "      <td>67</td>\n",
       "    </tr>\n",
       "    <tr>\n",
       "      <th>2</th>\n",
       "      <td>s2</td>\n",
       "      <td>790</td>\n",
       "      <td>s2-40</td>\n",
       "      <td>67</td>\n",
       "    </tr>\n",
       "  </tbody>\n",
       "</table>\n",
       "</div>"
      ],
      "text/plain": [
       "  receptor  receptor_residue ligand  ligand_residue\n",
       "0       s2               814  s2-40              67\n",
       "1       s2               786  s2-40              67\n",
       "2       s2               790  s2-40              67"
      ]
     },
     "metadata": {},
     "output_type": "display_data"
    },
    {
     "name": "stdout",
     "output_type": "stream",
     "text": [
      "\n",
      "\n",
      "\n"
     ]
    }
   ],
   "source": [
    "os.makedirs(OUTDIR, exist_ok=True)\n",
    "for l in LIGANDS:\n",
    "    print(\"Processing XLs for %s\" % l)\n",
    "    outfn = os.path.join(OUTDIR, \"%s.csv\" % l)\n",
    "    process_XL_set(l, outfn)\n",
    "    print(\"\\n\\n\")"
   ]
  },
  {
   "cell_type": "code",
   "execution_count": null,
   "metadata": {},
   "outputs": [],
   "source": []
  }
 ],
 "metadata": {
  "hide_input": false,
  "kernelspec": {
   "display_name": "Python 3",
   "language": "python",
   "name": "python3"
  },
  "language_info": {
   "codemirror_mode": {
    "name": "ipython",
    "version": 3
   },
   "file_extension": ".py",
   "mimetype": "text/x-python",
   "name": "python",
   "nbconvert_exporter": "python",
   "pygments_lexer": "ipython3",
   "version": "3.7.6"
  },
  "toc": {
   "base_numbering": 1,
   "nav_menu": {},
   "number_sections": true,
   "sideBar": true,
   "skip_h1_title": false,
   "title_cell": "Table of Contents",
   "title_sidebar": "Contents",
   "toc_cell": false,
   "toc_position": {},
   "toc_section_display": true,
   "toc_window_display": false
  }
 },
 "nbformat": 4,
 "nbformat_minor": 4
}
